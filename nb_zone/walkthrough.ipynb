{
 "cells": [
  {
   "cell_type": "markdown",
   "metadata": {},
   "source": [
    "*If you're unfamiliar with Jupyter Notebooks, this one is pre-loaded such that all you need to do is scroll, read, and enjoy.*\n",
    "\n",
    "*To interact with the file, click on cells with `[ ]:` to their left and run them one by one by pressing ▶️ (\"Run\") in the menu above or `Shift`+`Enter` on your keyboard. Go from top to bottom to keep things working properly.*"
   ]
  },
  {
   "cell_type": "markdown",
   "metadata": {},
   "source": [
    "# `tennis_abs_api`, A Python API for *Tennis Abstract*\n",
    "\n",
    "In short, `tennis_abs_api` is intended as a flexible Python package that **handles the grunt work of downloading and scrubbing historical match data** from Jeff Sackmann's [*Tennis Abstract*](http://www.tennisabstract.com) website **so users can get to the fun parts of tennis data analysis more quickly**.\n",
    "\n",
    "It's written to be flexible, so **read on to learn more about levels I, II, and (especially) III of interaction** with the website.\n",
    "\n",
    "We start by importing some other helpful packages."
   ]
  },
  {
   "cell_type": "code",
   "execution_count": null,
   "metadata": {},
   "outputs": [],
   "source": [
    "import numpy as np\n",
    "import pandas as pd\n",
    "import matplotlib as mpl\n",
    "import re"
   ]
  },
  {
   "cell_type": "markdown",
   "metadata": {},
   "source": [
    "___\n",
    "## I. Generate *Tennis Abstract* player page URLs. 🎾\n",
    "\n",
    "If you're used to interacting with Tennis Abstract and want a way to get links to the website's player pages in Python, you can **pass your player's name and tour to `ConstructURL`** and **return their respective player page**.\n",
    "\n",
    "Take Bianca Andreescu from the WTA, for example:"
   ]
  },
  {
   "cell_type": "code",
   "execution_count": null,
   "metadata": {},
   "outputs": [],
   "source": [
    "from construct_query import ConstructURL, DownloadStats\n",
    "from IPython.display import Image\n",
    "\n",
    "name = 'bianca andreescu' # capitalization doesn't matter\n",
    "name_obj = ConstructURL(name, tour='WTA')\n",
    "print(name_obj.URL)"
   ]
  },
  {
   "cell_type": "markdown",
   "metadata": {},
   "source": [
    "If you follow the link, the top corner of the page should look like the following, with the data table just below:"
   ]
  },
  {
   "cell_type": "code",
   "execution_count": null,
   "metadata": {},
   "outputs": [],
   "source": [
    "Image('bianca.png')"
   ]
  },
  {
   "cell_type": "markdown",
   "metadata": {},
   "source": [
    "___\n",
    "## II. Download match data from *Tennis Abstract* player page URLs. 🎾\n",
    "\n",
    "If you're more interested in **downloading data for local use** in Python, you can convert *Tennis Abstract* URLs into `pandas` DataFrames that contain those webpages' match data.\n",
    "\n",
    "For example, say you have a link to a page on Tennis Abstract that lists **stats for every quarterflnal, semifinal, and final Roger Federer played in 2015**."
   ]
  },
  {
   "cell_type": "code",
   "execution_count": null,
   "metadata": {},
   "outputs": [],
   "source": [
    "stat_url = 'http://www.tennisabstract.com/cgi-bin/player-classic.cgi?p=RogerFederer&f=A2015qqE0i1i2'"
   ]
  },
  {
   "cell_type": "markdown",
   "metadata": {},
   "source": [
    "You can **pass the link to the `url` argument of `DownloadStats`** and wait for the download to finish _(speed depends on the table's size)_."
   ]
  },
  {
   "cell_type": "code",
   "execution_count": null,
   "metadata": {},
   "outputs": [],
   "source": [
    "cp_stats = DownloadStats(url=stat_url)"
   ]
  },
  {
   "cell_type": "markdown",
   "metadata": {},
   "source": [
    "Once `DownloadStats` compiles and scrubs the data, it's saved as a DataFrame in the resulting object's `match_data` attribute."
   ]
  },
  {
   "cell_type": "code",
   "execution_count": null,
   "metadata": {},
   "outputs": [],
   "source": [
    "print(f\"{cp_stats.name}, {cp_stats.title}\")\n",
    "cp_stats.match_data.head()"
   ]
  },
  {
   "cell_type": "markdown",
   "metadata": {},
   "source": [
    "From here, the only limit for how to use the data is your creativity.\n",
    "\n",
    "As an example, let's **visualize the relationship between Federer's double fault percentage ('DF%') and ace percentage ('A%') in quarterfinals and semifinals in 2015**. We'll fit lines to the data for both rounds and see if Federer's serve trended consistently at both stages.\n",
    "\n",
    "_(Since this isn't a `pandas` or `matplotlib` tutorial, the visualization code is presented without much commentary.)_"
   ]
  },
  {
   "cell_type": "code",
   "execution_count": null,
   "metadata": {},
   "outputs": [],
   "source": [
    "# make smaller, round-speciifc dataFrames\n",
    "qf_stats = cp_stats.match_data[cp_stats.match_data['Rd'] == 'QF'].copy()\n",
    "sf_stats = cp_stats.match_data[cp_stats.match_data['Rd'] == 'SF'].copy()\n",
    "\n",
    "# plot serve percentages for each round\n",
    "ft_sz = 14\n",
    "ax = qf_stats.plot(x='DF%', y='A%', figsize=(8, 6), kind='scatter', marker='o', lw=2,\n",
    "                   fontsize=ft_sz, c='w', edgecolor='#008ca8', alpha=.7)\n",
    "sf_stats.plot(x='DF%', y='A%', ax=ax, kind='scatter', marker='o', lw=2,\n",
    "              fontsize=ft_sz, c='w', edgecolor='#1d1160', alpha=.7)\n",
    "\n",
    "ax.xaxis.get_label().set_fontsize(ft_sz)\n",
    "ax.yaxis.get_label().set_fontsize(ft_sz)\n",
    "\n",
    "# fit lines to serve percentages\n",
    "qf_fit = np.polyfit(qf_stats['DF%'], qf_stats['A%'], deg=1)\n",
    "sf_fit = np.polyfit(sf_stats['DF%'], sf_stats['A%'], deg=1)\n",
    "\n",
    "# plot fitted lines\n",
    "qf_x = np.linspace(0, qf_stats['DF%'].max())\n",
    "ax.plot(qf_x, qf_fit[0] * qf_x + qf_fit[1],\n",
    "        linestyle='--', lw=2.5, c='#008ca8', label='in QF')\n",
    "\n",
    "sf_x = np.linspace(0, sf_stats['DF%'].max())\n",
    "ax.plot(sf_x, sf_fit[0] * sf_x + sf_fit[1],\n",
    "        linestyle='--', lw=2.5, c='#1d1160', label='in SF')\n",
    "\n",
    "# highlight an extreme point\n",
    "extr = qf_stats[qf_stats['A%'] == qf_stats['A%'].max()].iloc[0].copy()\n",
    "\n",
    "opp = re.findall(r'\\s\\w*\\s\\[', extr['Result'])[0].split()[0]\n",
    "ax.text(extr['DF%'], extr['A%'] - 3,\n",
    "        f\"({extr['Tournament']}, vs. {opp})\",\n",
    "        fontsize=ft_sz - 2, style='italic', horizontalalignment='center')\n",
    "\n",
    "# set other plot styling options\n",
    "ax.set_title(\"Federer's 2015 serve stats by round\", fontsize=ft_sz + 2)\n",
    "ax.spines['top'].set_visible(False)\n",
    "ax.spines['right'].set_visible(False)\n",
    "ax.legend(fontsize=ft_sz)"
   ]
  },
  {
   "cell_type": "markdown",
   "metadata": {},
   "source": [
    "___\n",
    "## III. Use *custom queries* to download match data. 🎾\n",
    "\n",
    "That's right, **you can download match data even if you don't have the matching _Tennis Abstract_ URL**. Just pass a dictionary to `DownloadStats`' `attrs` argument to filter data just as you would on the site. ([See this page](https://github.com/ojustino/tennis-abs-api/blob/master/attrs_docs.md) for more on how to build `attrs`.)\n",
    "\n",
    "Let's **create a query for a subset of the data on Martina Navratilova's player page**."
   ]
  },
  {
   "cell_type": "markdown",
   "metadata": {},
   "source": [
    "**in English**:\n",
    "<br>\n",
    "_Martina Navratilova matches between 1977-01-01 and 1991-01-01._\n",
    "\n",
    "**as a `DownloadStats` query:**"
   ]
  },
  {
   "cell_type": "code",
   "execution_count": null,
   "metadata": {},
   "outputs": [],
   "source": [
    "qu_stats = DownloadStats('Martina Navratilova', tour='WTA',\n",
    "                         attrs={'start date': pd.Timestamp(1977, 1, 1),\n",
    "                                'end date': pd.Timestamp(1991, 1, 1)})"
   ]
  },
  {
   "cell_type": "code",
   "execution_count": null,
   "metadata": {},
   "outputs": [],
   "source": [
    "print(f\"{qu_stats.name} {qu_stats.title}\")\n",
    "qu_stats.match_data.head()"
   ]
  },
  {
   "cell_type": "markdown",
   "metadata": {},
   "source": [
    "_Note that older data is more likely to be incomplete, hence the `NaN`s in the resulting DataFrame._\n",
    "\n",
    "As before, we get a class instance with a `pandas` DataFrame that's ready for use in analyses and visualizations. Here, we'll **plot the percentage of tournaments Navratilova entered by surface** for each year in the set."
   ]
  },
  {
   "cell_type": "code",
   "execution_count": null,
   "metadata": {},
   "outputs": [],
   "source": [
    "# add specific 'Year' column to downloaded dataFrame\n",
    "qu_df = qu_stats.match_data.copy()\n",
    "qu_df['Year'] = qu_df['Date'].apply(lambda d: d.year)\n",
    "\n",
    "# Create new dataFrame with columns relevant to our plot...\n",
    "# 1) a column for the number of tournaments entered per surface per year\n",
    "by_yr_sf = (qu_df.groupby(['Year', 'Surface'])[['Tournament']].nunique()\n",
    "            .rename(columns={'Tournament': 'Tns'}))# .reset_index())\n",
    "\n",
    "# 2) a column for fraction of tns entered by surface,\n",
    "# normalized by each year's total number of tournaments\n",
    "by_yr_sf['Frac_Tns'] = by_yr_sf['Tns'] / by_yr_sf.groupby('Year')['Tns'].sum()"
   ]
  },
  {
   "cell_type": "code",
   "execution_count": null,
   "metadata": {},
   "outputs": [],
   "source": [
    "# make pivot table to help with plot\n",
    "pv0 = (by_yr_sf.reset_index()\n",
    "       .pivot(index='Year', columns='Surface', values='Frac_Tns').fillna(0))\n",
    "\n",
    "# and make the plot, setting specific colors for each surface\n",
    "clr_dict = {'Carpet': '#6b4f7f', 'Clay': '#c9480e',\n",
    "            'Grass': '#9ab558', 'Hard': '#1b91cf'}\n",
    "bar_clrs = [clr_dict[cl] for cl in pv0.columns]\n",
    "\n",
    "ft_sz = 14\n",
    "ax = pv0.plot.bar(stacked=True, figsize=(6, 4), fontsize=ft_sz,\n",
    "                  color=bar_clrs, edgecolor='k', width=1, rot=45)\n",
    "ax.get_yaxis().set_major_formatter(mpl.ticker.PercentFormatter(1))\n",
    "\n",
    "# make other style modifications\n",
    "ax.xaxis.get_label().set_fontsize(ft_sz)\n",
    "ax.yaxis.get_label().set_fontsize(ft_sz)\n",
    "\n",
    "ax.set_title(\"Navratilova's tournaments entered by surface\",\n",
    "             fontsize=ft_sz + 2)\n",
    "ax.spines['left'].set_visible(False)\n",
    "ax.spines['right'].set_visible(False)\n",
    "ax.legend(fontsize=ft_sz, bbox_to_anchor=(1.05, 1))"
   ]
  },
  {
   "cell_type": "markdown",
   "metadata": {},
   "source": [
    "We can use similar steps to **make a plot for total matches played per surface each year**."
   ]
  },
  {
   "cell_type": "code",
   "execution_count": null,
   "metadata": {},
   "outputs": [],
   "source": [
    "# 3) a column for total matches by surface per year\n",
    "by_yr_sf['Mts'] = qu_df.groupby(['Year', 'Surface'])[['Date']].count()\n",
    "\n",
    "# 4) a column for fraction of matches by surface,\n",
    "# normalized by each year's total number of matches\n",
    "by_yr_sf['Frac_Mts'] = by_yr_sf['Mts'] / by_yr_sf.groupby('Year')['Mts'].sum()"
   ]
  },
  {
   "cell_type": "code",
   "execution_count": null,
   "metadata": {},
   "outputs": [],
   "source": [
    "# make pivot table to help with plot\n",
    "pv1 = (by_yr_sf.reset_index()\n",
    "       .pivot(index='Year', columns='Surface', values='Mts').fillna(0))\n",
    "\n",
    "# and make the plot, setting specific colors for each surface\n",
    "clr_dict = {'Carpet': '#6b4f7f', 'Clay': '#c9480e',\n",
    "            'Grass': '#9ab558', 'Hard': '#1b91cf'}\n",
    "bar_clrs = [clr_dict[cl] for cl in pv0.columns]\n",
    "\n",
    "ft_sz = 14\n",
    "ax = pv1.plot.bar(stacked=True, figsize=(6, 4), fontsize=ft_sz,\n",
    "                  color=bar_clrs, edgecolor='w', width=1, rot=45)\n",
    "\n",
    "# make other style modifications\n",
    "ax.xaxis.get_label().set_fontsize(ft_sz)\n",
    "ax.yaxis.get_label().set_fontsize(ft_sz)\n",
    "\n",
    "ax.set_title(\"Navratilova's matches played by surface\",\n",
    "             fontsize=ft_sz + 2)\n",
    "ax.spines['top'].set_visible(False)\n",
    "ax.spines['right'].set_visible(False)\n",
    "ax.legend(fontsize=ft_sz, bbox_to_anchor=(1.05, 1))"
   ]
  },
  {
   "cell_type": "markdown",
   "metadata": {},
   "source": [
    "**Getting back to queries, let's try another example with `DownloadStats`.**\n",
    "\n",
    "**in English**:\n",
    "<br>\n",
    "_Serena Williams matches in the Round of 32 or Round of 16 of Premier-level tournaments on clay or carpet between 1999-08-07 and 2010-04-14 where she was ranked in the top 5._\n",
    "\n",
    "**as a `DownloadStats` query:**"
   ]
  },
  {
   "cell_type": "code",
   "execution_count": null,
   "metadata": {},
   "outputs": [],
   "source": [
    "qu_stats1 = DownloadStats('Serena Williams', tour='WTA',\n",
    "                          attrs={'surface': ['carpet', 'clay'],\n",
    "                                 'level': 'premier', 'as rank': 'Top 5',\n",
    "                                 'start date': pd.Timestamp(1999, 8, 7),\n",
    "                                 'end date': pd.Timestamp(2010, 4, 14),\n",
    "                                 'round': ['R16', 'Round of 32']})"
   ]
  },
  {
   "cell_type": "code",
   "execution_count": null,
   "metadata": {},
   "outputs": [],
   "source": [
    "print(f\"{qu_stats1.name}, {qu_stats1.title}\")\n",
    "qu_stats1.match_data.head()"
   ]
  },
  {
   "cell_type": "markdown",
   "metadata": {},
   "source": [
    "Finally, **we'll end with a convoluted and specific query** to help reassure the author that things are working as intended.\n",
    "\n",
    "**in English**:\n",
    "<br>\n",
    "_Andy Murray matches where he was seeded -- and the opponent (who is not Arnaud Clement or Guillermo Canas) was right-handed, shorter than Murray, ranked between 14-112 at the time of the match, was either seeded or given a wild card, and is currently inactive -- that ended in 4 sets or straight sets and featured at least 1 tiebreak._\n",
    "\n",
    "**as a `DownloadStats` query:**"
   ]
  },
  {
   "cell_type": "code",
   "execution_count": null,
   "metadata": {
    "scrolled": true
   },
   "outputs": [],
   "source": [
    "qu_stats2 = DownloadStats('Andy Murray', tour='ATP',\n",
    "                          attrs={'vs height': 'Shorter', 'vs hand': 'right',\n",
    "                                 'vs entry': ['wild card', 'seeded'],\n",
    "                                 'as entry': 'seeded',\n",
    "                                 'vs current rank': 'inactive',\n",
    "                                 'vs rank': (14, 112), 'score': 'all 7-6',\n",
    "                                 'sets': ['straights', '4 of 5 sets'],\n",
    "                                 'exclude opp': ['Arnaud Clement',\n",
    "                                                 'Guillermo Canas']})"
   ]
  },
  {
   "cell_type": "code",
   "execution_count": null,
   "metadata": {},
   "outputs": [],
   "source": [
    "print(f\"{qu_stats2.name} {qu_stats2.title}\")\n",
    "qu_stats2.match_data.head()"
   ]
  },
  {
   "cell_type": "markdown",
   "metadata": {},
   "source": [
    "___\n",
    "## As I hope you've stayed to see...\n",
    "\n",
    "...`tennis_abs_api` allows for **multiple levels of interaction** with *Tennis Abstract* and can act as **a gateway to deeper match data analysis**. It's under active development [on GitHub](https://github.com/ojustino/tennis-abs-api), so any constructive critiques (or compliments) are welcome there. **Thank you for reading.**"
   ]
  }
 ],
 "metadata": {
  "kernelspec": {
   "display_name": "Python 3",
   "language": "python",
   "name": "python3"
  },
  "language_info": {
   "codemirror_mode": {
    "name": "ipython",
    "version": 3
   },
   "file_extension": ".py",
   "mimetype": "text/x-python",
   "name": "python",
   "nbconvert_exporter": "python",
   "pygments_lexer": "ipython3",
   "version": "3.7.6"
  }
 },
 "nbformat": 4,
 "nbformat_minor": 4
}
